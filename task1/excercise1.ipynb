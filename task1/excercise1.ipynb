{
 "cells": [
  {
   "cell_type": "code",
   "execution_count": 1,
   "metadata": {},
   "outputs": [],
   "source": [
    "import tensorflow as tf"
   ]
  },
  {
   "cell_type": "code",
   "execution_count": 5,
   "metadata": {},
   "outputs": [
    {
     "name": "stdout",
     "output_type": "stream",
     "text": [
      "b'Hello  world!'\n",
      "3\n",
      "2 1\n"
     ]
    }
   ],
   "source": [
    "y1 = tf.constant(2, dtype=tf.int32)\n",
    "y2 = tf.constant(1, dtype=tf.int32)\n",
    "\n",
    "x = tf.constant('Hello  world!')\n",
    "\n",
    "my_input = tf.placeholder(tf.float32 , shape =())\n",
    "\n",
    "z = y1 + y2\n",
    "h = my_input * 42.0\n",
    "\n",
    "with tf.Session () as sess:\n",
    "    summary_writer = tf.summary.FileWriter(logdir='./', graph=sess.graph)\n",
    "    \n",
    "    x_eval = sess.run(x)\n",
    "    print(x_eval)\n",
    "    \n",
    "    z_eval = sess.run(z)\n",
    "    print(z_eval)\n",
    "    \n",
    "    y1_eval , y2_eval = sess.run([y1 ,y2])\n",
    "    print(y1_eval , y2_eval)\n",
    "    \n",
    "    this_works = sess.run(h, feed_dict = {my_input: 2.0})"
   ]
  },
  {
   "cell_type": "code",
   "execution_count": null,
   "metadata": {},
   "outputs": [],
   "source": []
  }
 ],
 "metadata": {
  "kernelspec": {
   "display_name": "Python 3",
   "language": "python",
   "name": "python3"
  },
  "language_info": {
   "codemirror_mode": {
    "name": "ipython",
    "version": 3
   },
   "file_extension": ".py",
   "mimetype": "text/x-python",
   "name": "python",
   "nbconvert_exporter": "python",
   "pygments_lexer": "ipython3",
   "version": "3.6.8"
  }
 },
 "nbformat": 4,
 "nbformat_minor": 2
}
