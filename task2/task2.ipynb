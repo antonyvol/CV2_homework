{
 "cells": [
  {
   "cell_type": "markdown",
   "metadata": {},
   "source": [
    "# Computer Vision 2 - Task 2\n",
    "## Anton Volkov & Angelie Kraft"
   ]
  },
  {
   "cell_type": "code",
   "execution_count": 25,
   "metadata": {},
   "outputs": [],
   "source": [
    "import tensorflow as tf\n",
    "import numpy as np"
   ]
  },
  {
   "cell_type": "code",
   "execution_count": 26,
   "metadata": {},
   "outputs": [],
   "source": [
    "# Setup variables\n",
    "\n",
    "x_in = np.load('linreg_x.npy')\n",
    "y_in = np.load('linreg_y.npy')\n",
    "\n",
    "n = len(x_in)\n",
    "x = tf.placeholder(tf.float32 , shape =(n,1))\n",
    "y = tf.placeholder(tf.float32 , shape =(n,1))\n",
    "\n",
    "\n",
    "w = tf.Variable(np.random.normal())\n",
    "b = tf.Variable(np.random.normal())\n",
    "y_predicted = w*x + b"
   ]
  },
  {
   "cell_type": "code",
   "execution_count": 27,
   "metadata": {},
   "outputs": [],
   "source": [
    "# Loss function\n",
    "\n",
    "loss = tf.losses.mean_squared_error(y, y_predicted)\n",
    "lr = 0.1\n",
    "optimizer = tf.train.GradientDescentOptimizer(lr)\n",
    "minimize_op = optimizer.minimize(loss)"
   ]
  },
  {
   "cell_type": "code",
   "execution_count": 28,
   "metadata": {},
   "outputs": [
    {
     "name": "stdout",
     "output_type": "stream",
     "text": [
      "Iteration 0: Loss 3.318508, w = 0.036462, b = -1.177239\n",
      "Iteration 1: Loss 2.260417, w = 0.092864, b = -0.907239\n",
      "Iteration 2: Loss 1.573007, w = 0.146670, b = -0.691068\n",
      "Iteration 3: Loss 1.124009, w = 0.197872, b = -0.517967\n",
      "Iteration 4: Loss 0.828641, w = 0.246497, b = -0.379330\n",
      "Iteration 5: Loss 0.632527, w = 0.292597, b = -0.268273\n",
      "Iteration 6: Loss 0.500760, w = 0.336240, b = -0.179286\n",
      "Iteration 7: Loss 0.410905, w = 0.377508, b = -0.107964\n",
      "Iteration 8: Loss 0.348519, w = 0.416491, b = -0.050781\n",
      "Iteration 9: Loss 0.304285, w = 0.453285, b = -0.004915\n",
      "Iteration 10: Loss 0.272174, w = 0.487988, b = 0.031889\n",
      "Iteration 11: Loss 0.248266, w = 0.520700, b = 0.061438\n",
      "Iteration 12: Loss 0.230002, w = 0.551518, b = 0.085177\n",
      "Iteration 13: Loss 0.215698, w = 0.580540, b = 0.104262\n",
      "Iteration 14: Loss 0.204236, w = 0.607860, b = 0.119619\n",
      "Iteration 15: Loss 0.194862, w = 0.633571, b = 0.131987\n",
      "Iteration 16: Loss 0.187066, w = 0.657761, b = 0.141960\n",
      "Iteration 17: Loss 0.180489, w = 0.680515, b = 0.150013\n",
      "Iteration 18: Loss 0.174880, w = 0.701914, b = 0.156524\n",
      "Iteration 19: Loss 0.170054, w = 0.722035, b = 0.161798\n",
      "Iteration 20: Loss 0.165874, w = 0.740953, b = 0.166078\n",
      "Iteration 21: Loss 0.162236, w = 0.758736, b = 0.169560\n",
      "Iteration 22: Loss 0.159059, w = 0.775452, b = 0.172400\n",
      "Iteration 23: Loss 0.156275, w = 0.791164, b = 0.174723\n",
      "Iteration 24: Loss 0.153832, w = 0.805929, b = 0.176629\n",
      "Iteration 25: Loss 0.151684, w = 0.819806, b = 0.178198\n",
      "Iteration 26: Loss 0.149794, w = 0.832846, b = 0.179497\n",
      "Iteration 27: Loss 0.148130, w = 0.845099, b = 0.180575\n",
      "Iteration 28: Loss 0.146663, w = 0.856613, b = 0.181475\n",
      "Iteration 29: Loss 0.145370, w = 0.867431, b = 0.182230\n",
      "Iteration 30: Loss 0.144229, w = 0.877596, b = 0.182867\n",
      "Iteration 31: Loss 0.143224, w = 0.887146, b = 0.183407\n",
      "Iteration 32: Loss 0.142336, w = 0.896120, b = 0.183869\n",
      "Iteration 33: Loss 0.141554, w = 0.904550, b = 0.184265\n",
      "Iteration 34: Loss 0.140863, w = 0.912471, b = 0.184608\n",
      "Iteration 35: Loss 0.140253, w = 0.919912, b = 0.184906\n",
      "Iteration 36: Loss 0.139716, w = 0.926903, b = 0.185168\n",
      "Iteration 37: Loss 0.139241, w = 0.933472, b = 0.185398\n",
      "Iteration 38: Loss 0.138822, w = 0.939642, b = 0.185603\n",
      "Iteration 39: Loss 0.138452, w = 0.945439, b = 0.185785\n",
      "Iteration 40: Loss 0.138126, w = 0.950886, b = 0.185948\n",
      "Iteration 41: Loss 0.137838, w = 0.956002, b = 0.186096\n",
      "Iteration 42: Loss 0.137584, w = 0.960809, b = 0.186229\n",
      "Iteration 43: Loss 0.137360, w = 0.965325, b = 0.186351\n",
      "Iteration 44: Loss 0.137162, w = 0.969567, b = 0.186462\n",
      "Iteration 45: Loss 0.136987, w = 0.973553, b = 0.186563\n",
      "Iteration 46: Loss 0.136833, w = 0.977297, b = 0.186657\n",
      "Iteration 47: Loss 0.136697, w = 0.980815, b = 0.186743\n",
      "Iteration 48: Loss 0.136577, w = 0.984119, b = 0.186823\n",
      "Iteration 49: Loss 0.136471, w = 0.987223, b = 0.186896\n",
      "Iteration 50: Loss 0.136378, w = 0.990140, b = 0.186965\n",
      "Iteration 51: Loss 0.136295, w = 0.992880, b = 0.187029\n",
      "Iteration 52: Loss 0.136222, w = 0.995454, b = 0.187088\n",
      "Iteration 53: Loss 0.136158, w = 0.997872, b = 0.187143\n",
      "Iteration 54: Loss 0.136101, w = 1.000143, b = 0.187195\n",
      "Iteration 55: Loss 0.136051, w = 1.002277, b = 0.187243\n",
      "Iteration 56: Loss 0.136007, w = 1.004282, b = 0.187288\n",
      "Iteration 57: Loss 0.135968, w = 1.006166, b = 0.187330\n",
      "Iteration 58: Loss 0.135934, w = 1.007935, b = 0.187369\n",
      "Iteration 59: Loss 0.135903, w = 1.009597, b = 0.187406\n",
      "Iteration 60: Loss 0.135877, w = 1.011159, b = 0.187441\n",
      "Iteration 61: Loss 0.135853, w = 1.012626, b = 0.187474\n",
      "Iteration 62: Loss 0.135832, w = 1.014004, b = 0.187504\n",
      "Iteration 63: Loss 0.135814, w = 1.015298, b = 0.187532\n",
      "Iteration 64: Loss 0.135797, w = 1.016515, b = 0.187559\n",
      "Iteration 65: Loss 0.135783, w = 1.017657, b = 0.187584\n",
      "Iteration 66: Loss 0.135770, w = 1.018731, b = 0.187608\n",
      "Iteration 67: Loss 0.135759, w = 1.019739, b = 0.187630\n",
      "Iteration 68: Loss 0.135749, w = 1.020687, b = 0.187651\n",
      "Iteration 69: Loss 0.135741, w = 1.021577, b = 0.187670\n",
      "Iteration 70: Loss 0.135733, w = 1.022413, b = 0.187689\n",
      "Iteration 71: Loss 0.135726, w = 1.023198, b = 0.187706\n",
      "Iteration 72: Loss 0.135720, w = 1.023936, b = 0.187722\n",
      "Iteration 73: Loss 0.135715, w = 1.024629, b = 0.187737\n",
      "Iteration 74: Loss 0.135710, w = 1.025280, b = 0.187752\n",
      "Iteration 75: Loss 0.135706, w = 1.025892, b = 0.187765\n",
      "Iteration 76: Loss 0.135702, w = 1.026467, b = 0.187777\n",
      "Iteration 77: Loss 0.135699, w = 1.027007, b = 0.187789\n",
      "Iteration 78: Loss 0.135696, w = 1.027514, b = 0.187800\n",
      "Iteration 79: Loss 0.135694, w = 1.027990, b = 0.187811\n",
      "Iteration 80: Loss 0.135692, w = 1.028438, b = 0.187821\n",
      "Iteration 81: Loss 0.135690, w = 1.028859, b = 0.187830\n",
      "Iteration 82: Loss 0.135688, w = 1.029254, b = 0.187838\n",
      "Iteration 83: Loss 0.135687, w = 1.029625, b = 0.187846\n",
      "Iteration 84: Loss 0.135685, w = 1.029974, b = 0.187854\n",
      "Iteration 85: Loss 0.135684, w = 1.030301, b = 0.187861\n",
      "Iteration 86: Loss 0.135683, w = 1.030609, b = 0.187868\n",
      "Iteration 87: Loss 0.135682, w = 1.030898, b = 0.187874\n",
      "Iteration 88: Loss 0.135681, w = 1.031169, b = 0.187880\n",
      "Iteration 89: Loss 0.135681, w = 1.031425, b = 0.187886\n",
      "Iteration 90: Loss 0.135680, w = 1.031664, b = 0.187891\n",
      "Iteration 91: Loss 0.135679, w = 1.031889, b = 0.187896\n",
      "Iteration 92: Loss 0.135679, w = 1.032101, b = 0.187901\n",
      "Iteration 93: Loss 0.135678, w = 1.032300, b = 0.187905\n",
      "Iteration 94: Loss 0.135678, w = 1.032486, b = 0.187909\n",
      "Iteration 95: Loss 0.135678, w = 1.032662, b = 0.187913\n",
      "Iteration 96: Loss 0.135677, w = 1.032826, b = 0.187916\n",
      "Iteration 97: Loss 0.135677, w = 1.032981, b = 0.187920\n",
      "Iteration 98: Loss 0.135677, w = 1.033127, b = 0.187923\n",
      "Iteration 99: Loss 0.135677, w = 1.033263, b = 0.187926\n"
     ]
    }
   ],
   "source": [
    "with tf.Session () as sess:\n",
    "    summary_writer = tf.summary.FileWriter(logdir='./', graph=sess.graph)\n",
    "    sess.run (tf.global_variables_initializer ())\n",
    "    for k in range (100) :\n",
    "        _, l, wk , bk = sess.run ([ minimize_op , loss , w, b], {x: x_in, y: y_in})\n",
    "        print ('Iteration {:d}: Loss {:f}, w = {:f}, b = {:f}'. format (k,l,wk,bk))"
   ]
  },
  {
   "cell_type": "code",
   "execution_count": 33,
   "metadata": {},
   "outputs": [
    {
     "data": {
      "image/png": "[encoded data removed]",
      "text/plain": [
       "<Figure size 432x288 with 1 Axes>"
      ]
     },
     "metadata": {
      "needs_background": "light"
     },
     "output_type": "display_data"
    }
   ],
   "source": [
    "import matplotlib.pyplot as plt\n",
    "xs = np.linspace( -1.0 , 1.0 , num=20)\n",
    "ys = wk * xs + bk\n",
    "plt.plot(x_in, y_in, 'bo')\n",
    "plt.plot(xs ,ys ,'g')\n",
    "plt.ylabel('y')\n",
    "plt.xlabel('x')\n",
    "plt.show()"
   ]
  }
 ],
 "metadata": {
  "kernelspec": {
   "display_name": "Python 3",
   "language": "python",
   "name": "python3"
  },
  "language_info": {
   "codemirror_mode": {
    "name": "ipython",
    "version": 3
   },
   "file_extension": ".py",
   "mimetype": "text/x-python",
   "name": "python",
   "nbconvert_exporter": "python",
   "pygments_lexer": "ipython3",
   "version": "3.7.0"
  }
 },
 "nbformat": 4,
 "nbformat_minor": 2
}
